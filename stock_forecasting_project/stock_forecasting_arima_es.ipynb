{
 "cells": [
  {
   "cell_type": "markdown",
   "id": "6a106608",
   "metadata": {},
   "source": [
    "# 📈 Stock Price Prediction using ARIMA & Exponential Smoothing\n",
    "This notebook demonstrates how to predict stock prices using **ARIMA** and **Exponential Smoothing** models with Python's `statsmodels` library."
   ]
  },
  {
   "cell_type": "code",
   "execution_count": null,
   "id": "b27016c5",
   "metadata": {},
   "outputs": [],
   "source": [
    "import pandas as pd\n",
    "import numpy as np\n",
    "import matplotlib.pyplot as plt\n",
    "import warnings\n",
    "warnings.filterwarnings(\"ignore\")\n",
    "\n",
    "from statsmodels.tsa.arima.model import ARIMA\n",
    "from statsmodels.tsa.holtwinters import ExponentialSmoothing\n",
    "from statsmodels.tsa.stattools import adfuller\n",
    "from sklearn.metrics import mean_squared_error, mean_absolute_error\n"
   ]
  },
  {
   "cell_type": "code",
   "execution_count": null,
   "id": "0f0e6070",
   "metadata": {},
   "outputs": [],
   "source": [
    "# Download historical stock prices from Yahoo Finance\n",
    "import yfinance as yf\n",
    "data = yf.download(\"AAPL\", start=\"2018-01-01\", end=\"2024-12-31\")\n",
    "df = data[['Close']]\n",
    "df.head()\n"
   ]
  },
  {
   "cell_type": "code",
   "execution_count": null,
   "id": "b367866b",
   "metadata": {},
   "outputs": [],
   "source": [
    "train_size = int(len(df) * 0.85)\n",
    "train, test = df[:train_size], df[train_size:]\n"
   ]
  },
  {
   "cell_type": "code",
   "execution_count": null,
   "id": "92369674",
   "metadata": {},
   "outputs": [],
   "source": [
    "def adf_test(series):\n",
    "    result = adfuller(series)\n",
    "    print(f'ADF Statistic: {result[0]}')\n",
    "    print(f'p-value: {result[1]}')\n",
    "    if result[1] <= 0.05:\n",
    "        print(\"✅ Data is stationary\")\n",
    "    else:\n",
    "        print(\"❌ Data is non-stationary\")\n",
    "\n",
    "adf_test(train['Close'])\n"
   ]
  },
  {
   "cell_type": "code",
   "execution_count": null,
   "id": "9a18b597",
   "metadata": {},
   "outputs": [],
   "source": [
    "arima_model = ARIMA(train['Close'], order=(5,1,0))\n",
    "arima_fit = arima_model.fit()\n",
    "arima_pred = arima_fit.forecast(steps=len(test))\n"
   ]
  },
  {
   "cell_type": "code",
   "execution_count": null,
   "id": "56b0654a",
   "metadata": {},
   "outputs": [],
   "source": [
    "es_model = ExponentialSmoothing(train['Close'], trend='add', seasonal=None)\n",
    "es_fit = es_model.fit()\n",
    "es_pred = es_fit.forecast(len(test))\n"
   ]
  },
  {
   "cell_type": "code",
   "execution_count": null,
   "id": "9bc6e9f2",
   "metadata": {},
   "outputs": [],
   "source": [
    "def evaluate(true, pred, model_name):\n",
    "    rmse = np.sqrt(mean_squared_error(true, pred))\n",
    "    mae = mean_absolute_error(true, pred)\n",
    "    print(f\"{model_name} -> RMSE: {rmse:.2f}, MAE: {mae:.2f}\")\n",
    "\n",
    "evaluate(test['Close'], arima_pred, \"ARIMA\")\n",
    "evaluate(test['Close'], es_pred, \"Exponential Smoothing\")\n"
   ]
  },
  {
   "cell_type": "code",
   "execution_count": null,
   "id": "0a5add59",
   "metadata": {},
   "outputs": [],
   "source": [
    "plt.figure(figsize=(12,6))\n",
    "plt.plot(train['Close'], label='Train')\n",
    "plt.plot(test['Close'], label='Test')\n",
    "plt.plot(test.index, arima_pred, label='ARIMA Predictions', color='red')\n",
    "plt.plot(test.index, es_pred, label='Exponential Smoothing Predictions', color='green')\n",
    "plt.title(\"Stock Price Forecasting\")\n",
    "plt.xlabel(\"Date\")\n",
    "plt.ylabel(\"Price\")\n",
    "plt.legend()\n",
    "plt.show()\n"
   ]
  }
 ],
 "metadata": {},
 "nbformat": 4,
 "nbformat_minor": 5
}
